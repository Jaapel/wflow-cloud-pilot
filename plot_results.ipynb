{
 "cells": [
  {
   "cell_type": "code",
   "execution_count": 1,
   "id": "b9b9750c-fbb4-42a5-b698-5c6683dfa960",
   "metadata": {
    "execution": {
     "iopub.execute_input": "2023-10-05T07:11:32.602077Z",
     "iopub.status.busy": "2023-10-05T07:11:32.601059Z",
     "iopub.status.idle": "2023-10-05T07:11:32.970884Z",
     "shell.execute_reply": "2023-10-05T07:11:32.969564Z",
     "shell.execute_reply.started": "2023-10-05T07:11:32.602048Z"
    }
   },
   "outputs": [],
   "source": [
    "import pandas as pd"
   ]
  },
  {
   "cell_type": "code",
   "execution_count": 12,
   "id": "b2021a02-3fdf-4b6c-be9e-75b8ad199d27",
   "metadata": {
    "execution": {
     "iopub.execute_input": "2023-10-05T07:15:48.364393Z",
     "iopub.status.busy": "2023-10-05T07:15:48.363699Z",
     "iopub.status.idle": "2023-10-05T07:15:48.368719Z",
     "shell.execute_reply": "2023-10-05T07:15:48.367515Z",
     "shell.execute_reply.started": "2023-10-05T07:15:48.364364Z"
    }
   },
   "outputs": [],
   "source": [
    "filename = \"network_usage.csv\"\n",
    "time_column = \"t_parsed\"\n",
    "network_usage_column = \"cumulative_parsed\"\n",
    "hostname = \"172.21.134.247\""
   ]
  },
  {
   "cell_type": "code",
   "execution_count": 13,
   "id": "5010f359-f414-41e8-a862-30bbd472a91e",
   "metadata": {
    "execution": {
     "iopub.execute_input": "2023-10-05T07:15:48.850293Z",
     "iopub.status.busy": "2023-10-05T07:15:48.849306Z",
     "iopub.status.idle": "2023-10-05T07:15:48.880311Z",
     "shell.execute_reply": "2023-10-05T07:15:48.878984Z",
     "shell.execute_reply.started": "2023-10-05T07:15:48.850264Z"
    }
   },
   "outputs": [
    {
     "data": {
      "text/html": [
       "<div>\n",
       "<style scoped>\n",
       "    .dataframe tbody tr th:only-of-type {\n",
       "        vertical-align: middle;\n",
       "    }\n",
       "\n",
       "    .dataframe tbody tr th {\n",
       "        vertical-align: top;\n",
       "    }\n",
       "\n",
       "    .dataframe thead th {\n",
       "        text-align: right;\n",
       "    }\n",
       "</style>\n",
       "<table border=\"1\" class=\"dataframe\">\n",
       "  <thead>\n",
       "    <tr style=\"text-align: right;\">\n",
       "      <th></th>\n",
       "      <th>Unnamed: 0</th>\n",
       "      <th>#</th>\n",
       "      <th>host/name</th>\n",
       "      <th>direction</th>\n",
       "      <th>2s</th>\n",
       "      <th>10s</th>\n",
       "      <th>40s</th>\n",
       "      <th>cumulative</th>\n",
       "      <th>t</th>\n",
       "      <th>cumulative_parsed</th>\n",
       "      <th>t_parsed</th>\n",
       "    </tr>\n",
       "  </thead>\n",
       "  <tbody>\n",
       "    <tr>\n",
       "      <th>2</th>\n",
       "      <td>2</td>\n",
       "      <td>1.0</td>\n",
       "      <td>172.21.134.247</td>\n",
       "      <td>=&gt;</td>\n",
       "      <td>544b</td>\n",
       "      <td>544b</td>\n",
       "      <td>544b</td>\n",
       "      <td>136B</td>\n",
       "      <td>15-26-03.120180925</td>\n",
       "      <td>136</td>\n",
       "      <td>1900-01-01 15:26:03.120180925</td>\n",
       "    </tr>\n",
       "    <tr>\n",
       "      <th>4</th>\n",
       "      <td>4</td>\n",
       "      <td>1.0</td>\n",
       "      <td>172.21.134.247</td>\n",
       "      <td>=&gt;</td>\n",
       "      <td>544b</td>\n",
       "      <td>544b</td>\n",
       "      <td>544b</td>\n",
       "      <td>136B</td>\n",
       "      <td>15-25-04.881277767</td>\n",
       "      <td>136</td>\n",
       "      <td>1900-01-01 15:25:04.881277767</td>\n",
       "    </tr>\n",
       "    <tr>\n",
       "      <th>8</th>\n",
       "      <td>8</td>\n",
       "      <td>1.0</td>\n",
       "      <td>172.21.134.247</td>\n",
       "      <td>=&gt;</td>\n",
       "      <td>6.70Kb</td>\n",
       "      <td>6.70Kb</td>\n",
       "      <td>6.70Kb</td>\n",
       "      <td>1.67KB</td>\n",
       "      <td>15-21-03.894581807</td>\n",
       "      <td>1670</td>\n",
       "      <td>1900-01-01 15:21:03.894581807</td>\n",
       "    </tr>\n",
       "    <tr>\n",
       "      <th>10</th>\n",
       "      <td>10</td>\n",
       "      <td>2.0</td>\n",
       "      <td>172.21.134.247</td>\n",
       "      <td>=&gt;</td>\n",
       "      <td>860b</td>\n",
       "      <td>860b</td>\n",
       "      <td>860b</td>\n",
       "      <td>215B</td>\n",
       "      <td>15-21-03.894581807</td>\n",
       "      <td>215</td>\n",
       "      <td>1900-01-01 15:21:03.894581807</td>\n",
       "    </tr>\n",
       "    <tr>\n",
       "      <th>18</th>\n",
       "      <td>18</td>\n",
       "      <td>1.0</td>\n",
       "      <td>172.21.134.247</td>\n",
       "      <td>=&gt;</td>\n",
       "      <td>736b</td>\n",
       "      <td>736b</td>\n",
       "      <td>736b</td>\n",
       "      <td>184B</td>\n",
       "      <td>15-20-46.668880948</td>\n",
       "      <td>184</td>\n",
       "      <td>1900-01-01 15:20:46.668880948</td>\n",
       "    </tr>\n",
       "    <tr>\n",
       "      <th>...</th>\n",
       "      <td>...</td>\n",
       "      <td>...</td>\n",
       "      <td>...</td>\n",
       "      <td>...</td>\n",
       "      <td>...</td>\n",
       "      <td>...</td>\n",
       "      <td>...</td>\n",
       "      <td>...</td>\n",
       "      <td>...</td>\n",
       "      <td>...</td>\n",
       "      <td>...</td>\n",
       "    </tr>\n",
       "    <tr>\n",
       "      <th>364</th>\n",
       "      <td>364</td>\n",
       "      <td>1.0</td>\n",
       "      <td>172.21.134.247</td>\n",
       "      <td>=&gt;</td>\n",
       "      <td>544b</td>\n",
       "      <td>544b</td>\n",
       "      <td>544b</td>\n",
       "      <td>136B</td>\n",
       "      <td>15-24-37.084860561</td>\n",
       "      <td>136</td>\n",
       "      <td>1900-01-01 15:24:37.084860561</td>\n",
       "    </tr>\n",
       "    <tr>\n",
       "      <th>372</th>\n",
       "      <td>372</td>\n",
       "      <td>1.0</td>\n",
       "      <td>172.21.134.247</td>\n",
       "      <td>=&gt;</td>\n",
       "      <td>1.06Kb</td>\n",
       "      <td>1.06Kb</td>\n",
       "      <td>1.06Kb</td>\n",
       "      <td>272B</td>\n",
       "      <td>15-21-40.558501183</td>\n",
       "      <td>272</td>\n",
       "      <td>1900-01-01 15:21:40.558501183</td>\n",
       "    </tr>\n",
       "    <tr>\n",
       "      <th>374</th>\n",
       "      <td>374</td>\n",
       "      <td>1.0</td>\n",
       "      <td>172.21.134.247</td>\n",
       "      <td>=&gt;</td>\n",
       "      <td>1.06Kb</td>\n",
       "      <td>1.06Kb</td>\n",
       "      <td>1.06Kb</td>\n",
       "      <td>272B</td>\n",
       "      <td>15-21-37.367777289</td>\n",
       "      <td>272</td>\n",
       "      <td>1900-01-01 15:21:37.367777289</td>\n",
       "    </tr>\n",
       "    <tr>\n",
       "      <th>378</th>\n",
       "      <td>378</td>\n",
       "      <td>1.0</td>\n",
       "      <td>172.21.134.247</td>\n",
       "      <td>=&gt;</td>\n",
       "      <td>736b</td>\n",
       "      <td>736b</td>\n",
       "      <td>736b</td>\n",
       "      <td>184B</td>\n",
       "      <td>15-20-49.852674586</td>\n",
       "      <td>184</td>\n",
       "      <td>1900-01-01 15:20:49.852674586</td>\n",
       "    </tr>\n",
       "    <tr>\n",
       "      <th>380</th>\n",
       "      <td>380</td>\n",
       "      <td>1.0</td>\n",
       "      <td>172.21.134.247</td>\n",
       "      <td>=&gt;</td>\n",
       "      <td>0b</td>\n",
       "      <td>0b</td>\n",
       "      <td>0b</td>\n",
       "      <td>0B</td>\n",
       "      <td>15-22-46.366481751</td>\n",
       "      <td>0</td>\n",
       "      <td>1900-01-01 15:22:46.366481751</td>\n",
       "    </tr>\n",
       "  </tbody>\n",
       "</table>\n",
       "<p>137 rows × 11 columns</p>\n",
       "</div>"
      ],
      "text/plain": [
       "     Unnamed: 0    #       host/name direction      2s     10s     40s  \\\n",
       "2             2  1.0  172.21.134.247        =>    544b    544b    544b   \n",
       "4             4  1.0  172.21.134.247        =>    544b    544b    544b   \n",
       "8             8  1.0  172.21.134.247        =>  6.70Kb  6.70Kb  6.70Kb   \n",
       "10           10  2.0  172.21.134.247        =>    860b    860b    860b   \n",
       "18           18  1.0  172.21.134.247        =>    736b    736b    736b   \n",
       "..          ...  ...             ...       ...     ...     ...     ...   \n",
       "364         364  1.0  172.21.134.247        =>    544b    544b    544b   \n",
       "372         372  1.0  172.21.134.247        =>  1.06Kb  1.06Kb  1.06Kb   \n",
       "374         374  1.0  172.21.134.247        =>  1.06Kb  1.06Kb  1.06Kb   \n",
       "378         378  1.0  172.21.134.247        =>    736b    736b    736b   \n",
       "380         380  1.0  172.21.134.247        =>      0b      0b      0b   \n",
       "\n",
       "    cumulative                   t  cumulative_parsed  \\\n",
       "2         136B  15-26-03.120180925                136   \n",
       "4         136B  15-25-04.881277767                136   \n",
       "8       1.67KB  15-21-03.894581807               1670   \n",
       "10        215B  15-21-03.894581807                215   \n",
       "18        184B  15-20-46.668880948                184   \n",
       "..         ...                 ...                ...   \n",
       "364       136B  15-24-37.084860561                136   \n",
       "372       272B  15-21-40.558501183                272   \n",
       "374       272B  15-21-37.367777289                272   \n",
       "378       184B  15-20-49.852674586                184   \n",
       "380         0B  15-22-46.366481751                  0   \n",
       "\n",
       "                         t_parsed  \n",
       "2   1900-01-01 15:26:03.120180925  \n",
       "4   1900-01-01 15:25:04.881277767  \n",
       "8   1900-01-01 15:21:03.894581807  \n",
       "10  1900-01-01 15:21:03.894581807  \n",
       "18  1900-01-01 15:20:46.668880948  \n",
       "..                            ...  \n",
       "364 1900-01-01 15:24:37.084860561  \n",
       "372 1900-01-01 15:21:40.558501183  \n",
       "374 1900-01-01 15:21:37.367777289  \n",
       "378 1900-01-01 15:20:49.852674586  \n",
       "380 1900-01-01 15:22:46.366481751  \n",
       "\n",
       "[137 rows x 11 columns]"
      ]
     },
     "execution_count": 13,
     "metadata": {},
     "output_type": "execute_result"
    }
   ],
   "source": [
    "df = pd.read_csv(filename)\n",
    "df[time_column] = pd.to_datetime(df[time_column])\n",
    "df.loc[df[\"direction\"] == \"=>\"]\n",
    "df.loc[df[\"host/name\"] == hostname]"
   ]
  },
  {
   "cell_type": "code",
   "execution_count": 14,
   "id": "186cf84f-14c2-4472-a4e3-d5978d01bfbd",
   "metadata": {
    "execution": {
     "iopub.execute_input": "2023-10-05T07:15:49.460582Z",
     "iopub.status.busy": "2023-10-05T07:15:49.460199Z",
     "iopub.status.idle": "2023-10-05T07:15:49.711977Z",
     "shell.execute_reply": "2023-10-05T07:15:49.710567Z",
     "shell.execute_reply.started": "2023-10-05T07:15:49.460556Z"
    }
   },
   "outputs": [
    {
     "data": {
      "image/png": "[encoded data removed]",
      "text/plain": [
       "<Figure size 640x480 with 1 Axes>"
      ]
     },
     "metadata": {},
     "output_type": "display_data"
    }
   ],
   "source": [
    "import matplotlib.pyplot as plt\n",
    "import matplotlib.dates as mdates\n",
    "\n",
    "fig, ax = plt.subplots()\n",
    "\n",
    "df.plot(x=time_column, y=network_usage_column, ax=ax)\n",
    "dateformat = mdates.DateFormatter('%H:%M')\n",
    "ax.xaxis.set_major_formatter(dateformat)\n",
    "fig.autofmt_xdate(rotation=45)"
   ]
  },
  {
   "cell_type": "code",
   "execution_count": 14,
   "id": "8a1212d0-7656-46b0-a333-964fd3ea28fe",
   "metadata": {
    "execution": {
     "iopub.execute_input": "2023-10-04T14:51:52.772624Z",
     "iopub.status.busy": "2023-10-04T14:51:52.771463Z",
     "iopub.status.idle": "2023-10-04T14:51:52.778804Z",
     "shell.execute_reply": "2023-10-04T14:51:52.777775Z",
     "shell.execute_reply.started": "2023-10-04T14:51:52.772590Z"
    }
   },
   "outputs": [
    {
     "data": {
      "text/plain": [
       "<Axes: xlabel='t_parsed'>"
      ]
     },
     "execution_count": 14,
     "metadata": {},
     "output_type": "execute_result"
    }
   ],
   "source": [
    "ax"
   ]
  }
 ],
 "metadata": {
  "kernelspec": {
   "display_name": "Python 3 (ipykernel)",
   "language": "python",
   "name": "python3"
  },
  "language_info": {
   "codemirror_mode": {
    "name": "ipython",
    "version": 3
   },
   "file_extension": ".py",
   "mimetype": "text/x-python",
   "name": "python",
   "nbconvert_exporter": "python",
   "pygments_lexer": "ipython3",
   "version": "3.11.5"
  }
 },
 "nbformat": 4,
 "nbformat_minor": 5
}
