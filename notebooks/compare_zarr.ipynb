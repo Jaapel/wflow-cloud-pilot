{
 "cells": [
  {
   "cell_type": "code",
   "execution_count": 15,
   "id": "8206bdd3-667c-41a4-866a-a9c881e44f8b",
   "metadata": {
    "execution": {
     "iopub.execute_input": "2023-11-15T13:33:39.813732Z",
     "iopub.status.busy": "2023-11-15T13:33:39.813369Z",
     "iopub.status.idle": "2023-11-15T13:33:42.597806Z",
     "shell.execute_reply": "2023-11-15T13:33:42.594282Z",
     "shell.execute_reply.started": "2023-11-15T13:33:39.813708Z"
    }
   },
   "outputs": [
    {
     "name": "stdout",
     "output_type": "stream",
     "text": [
      "zarr                      2.16.1             pyhd8ed1ab_0    conda-forge\n"
     ]
    }
   ],
   "source": [
    "! mamba list | grep zarr"
   ]
  },
  {
   "cell_type": "code",
   "execution_count": 2,
   "id": "cbb58f5b-3b03-4081-8376-69f6939f391f",
   "metadata": {
    "execution": {
     "iopub.execute_input": "2023-11-15T13:12:34.906245Z",
     "iopub.status.busy": "2023-11-15T13:12:34.905200Z",
     "iopub.status.idle": "2023-11-15T13:12:35.062974Z",
     "shell.execute_reply": "2023-11-15T13:12:35.061698Z",
     "shell.execute_reply.started": "2023-11-15T13:12:34.906185Z"
    }
   },
   "outputs": [],
   "source": [
    "import zarr\n",
    "from pathlib import Path"
   ]
  },
  {
   "cell_type": "code",
   "execution_count": 3,
   "id": "3a13cfb4-0141-4091-9957-598439598bf8",
   "metadata": {
    "execution": {
     "iopub.execute_input": "2023-11-15T13:12:35.064746Z",
     "iopub.status.busy": "2023-11-15T13:12:35.064037Z",
     "iopub.status.idle": "2023-11-15T13:12:35.070411Z",
     "shell.execute_reply": "2023-11-15T13:12:35.068695Z",
     "shell.execute_reply.started": "2023-11-15T13:12:35.064718Z"
    }
   },
   "outputs": [],
   "source": [
    "era5_daily_path = Path(\"/mnt/p/wflow_global/hydromt/meteo/era5_daily.zarr\")"
   ]
  },
  {
   "cell_type": "code",
   "execution_count": 4,
   "id": "08a21301-6312-44bc-83a8-64638cd79dc5",
   "metadata": {
    "execution": {
     "iopub.execute_input": "2023-11-15T13:12:35.072885Z",
     "iopub.status.busy": "2023-11-15T13:12:35.072618Z",
     "iopub.status.idle": "2023-11-15T13:12:35.681621Z",
     "shell.execute_reply": "2023-11-15T13:12:35.680742Z",
     "shell.execute_reply.started": "2023-11-15T13:12:35.072862Z"
    }
   },
   "outputs": [],
   "source": [
    "era5_daily = zarr.open(era5_daily_path, mode=\"r\")"
   ]
  },
  {
   "cell_type": "code",
   "execution_count": 5,
   "id": "76e07d96-e52f-4061-a4bd-ad79105360d9",
   "metadata": {
    "execution": {
     "iopub.execute_input": "2023-11-15T13:12:35.684022Z",
     "iopub.status.busy": "2023-11-15T13:12:35.683299Z",
     "iopub.status.idle": "2023-11-15T13:12:46.049211Z",
     "shell.execute_reply": "2023-11-15T13:12:46.047515Z",
     "shell.execute_reply.started": "2023-11-15T13:12:35.683992Z"
    }
   },
   "outputs": [
    {
     "data": {
      "text/html": [
       "<table class=\"zarr-info\"><tbody><tr><th style=\"text-align: left\">Name</th><td style=\"text-align: left\">/</td></tr><tr><th style=\"text-align: left\">Type</th><td style=\"text-align: left\">zarr.hierarchy.Group</td></tr><tr><th style=\"text-align: left\">Read-only</th><td style=\"text-align: left\">True</td></tr><tr><th style=\"text-align: left\">Store type</th><td style=\"text-align: left\">zarr.storage.DirectoryStore</td></tr><tr><th style=\"text-align: left\">No. members</th><td style=\"text-align: left\">14</td></tr><tr><th style=\"text-align: left\">No. arrays</th><td style=\"text-align: left\">14</td></tr><tr><th style=\"text-align: left\">No. groups</th><td style=\"text-align: left\">0</td></tr><tr><th style=\"text-align: left\">Arrays</th><td style=\"text-align: left\">d2m, latitude, longitude, msl, ssrd, t2m, tcwv, time, tisr, tmax, tmin, tp, u10, v10</td></tr></tbody></table>"
      ],
      "text/plain": [
       "Name        : /\n",
       "Type        : zarr.hierarchy.Group\n",
       "Read-only   : True\n",
       "Store type  : zarr.storage.DirectoryStore\n",
       "No. members : 14\n",
       "No. arrays  : 14\n",
       "No. groups  : 0\n",
       "Arrays      : d2m, latitude, longitude, msl, ssrd, t2m, tcwv, time, tisr, tmax,\n",
       "            : tmin, tp, u10, v10"
      ]
     },
     "execution_count": 5,
     "metadata": {},
     "output_type": "execute_result"
    }
   ],
   "source": [
    "era5_daily.info"
   ]
  },
  {
   "cell_type": "code",
   "execution_count": 7,
   "id": "1a16f0b7-9820-44ee-a8b4-54e2ba651c33",
   "metadata": {
    "execution": {
     "iopub.execute_input": "2023-11-15T13:13:08.015256Z",
     "iopub.status.busy": "2023-11-15T13:13:08.014390Z",
     "iopub.status.idle": "2023-11-15T13:13:15.360306Z",
     "shell.execute_reply": "2023-11-15T13:13:15.359325Z",
     "shell.execute_reply.started": "2023-11-15T13:13:08.015220Z"
    }
   },
   "outputs": [
    {
     "name": "stdout",
     "output_type": "stream",
     "text": [
      "/\n",
      " ├── d2m (26694, 721, 1440) float32\n",
      " ├── latitude (721,) float32\n",
      " ├── longitude (1440,) float32\n",
      " ├── msl (26694, 721, 1440) float32\n",
      " ├── ssrd (26694, 721, 1440) float32\n",
      " ├── t2m (26694, 721, 1440) float32\n",
      " ├── tcwv (26694, 721, 1440) float32\n",
      " ├── time (26694,) int64\n",
      " ├── tisr (26694, 721, 1440) float32\n",
      " ├── tmax (26694, 721, 1440) float32\n",
      " ├── tmin (26694, 721, 1440) float32\n",
      " ├── tp (26694, 721, 1440) float32\n",
      " ├── u10 (26694, 721, 1440) float32\n",
      " └── v10 (26694, 721, 1440) float32\n"
     ]
    }
   ],
   "source": [
    "print(era5_daily.tree())"
   ]
  },
  {
   "cell_type": "code",
   "execution_count": 19,
   "id": "72d32d7b-c13f-41c9-a6a8-61f48067bb37",
   "metadata": {
    "execution": {
     "iopub.execute_input": "2023-11-15T13:47:49.408582Z",
     "iopub.status.busy": "2023-11-15T13:47:49.407646Z",
     "iopub.status.idle": "2023-11-15T13:52:28.377753Z",
     "shell.execute_reply": "2023-11-15T13:52:28.376509Z",
     "shell.execute_reply.started": "2023-11-15T13:47:49.408552Z"
    }
   },
   "outputs": [
    {
     "name": "stdout",
     "output_type": "stream",
     "text": [
      "Name               : /tmin\n",
      "Type               : zarr.core.Array\n",
      "Data type          : float32\n",
      "Shape              : (26694, 721, 1440)\n",
      "Chunk shape        : (365, 103, 480)\n",
      "Order              : C\n",
      "Read-only          : True\n",
      "Compressor         : Blosc(cname='zstd', clevel=3, shuffle=SHUFFLE, blocksize=0)\n",
      "Store type         : zarr.storage.DirectoryStore\n",
      "No. bytes          : 110859114240 (103.2G)\n",
      "No. bytes stored   : 49576259248 (46.2G)\n",
      "Storage ratio      : 2.2\n",
      "Chunks initialized : 1554/1554\n",
      "\n",
      "(365, 103, 480)\n",
      "<zarr.attrs.Attributes object at 0x7f385a6b1a50>\n",
      "[[[248.42 248.42 248.42 248.42 248.42]\n",
      "  [248.14 248.14 248.15 248.15 248.15]\n",
      "  [247.9  247.9  247.91 247.91 247.92]\n",
      "  [247.72 247.73 247.73 247.74 247.74]\n",
      "  [247.46 247.47 247.48 247.5  247.51]]\n",
      "\n",
      " [[243.27 243.27 243.27 243.27 243.27]\n",
      "  [243.1  243.1  243.1  243.1  243.1 ]\n",
      "  [242.95 242.95 242.95 242.96 242.96]\n",
      "  [242.95 242.95 242.95 242.95 242.96]\n",
      "  [242.99 242.99 243.   243.   243.  ]]\n",
      "\n",
      " [[241.41 241.41 241.41 241.41 241.41]\n",
      "  [241.44 241.44 241.44 241.44 241.44]\n",
      "  [241.61 241.61 241.61 241.61 241.61]\n",
      "  [241.8  241.8  241.8  241.8  241.8 ]\n",
      "  [242.   242.   242.   242.   242.  ]]\n",
      "\n",
      " [[242.46 242.46 242.46 242.46 242.46]\n",
      "  [242.76 242.76 242.76 242.76 242.76]\n",
      "  [243.14 243.14 243.14 243.14 243.14]\n",
      "  [243.56 243.56 243.56 243.56 243.56]\n",
      "  [243.99 243.99 243.98 243.98 243.98]]\n",
      "\n",
      " [[245.96 245.96 245.96 245.96 245.96]\n",
      "  [245.8  245.8  245.81 245.81 245.81]\n",
      "  [245.63 245.64 245.64 245.64 245.65]\n",
      "  [245.53 245.54 245.54 245.55 245.56]\n",
      "  [245.52 245.53 245.54 245.54 245.55]]]\n"
     ]
    }
   ],
   "source": [
    "print(era5_daily[\"tmin\"].info)\n",
    "print(era5_daily[\"tmin\"].chunks)\n",
    "print(era5_daily[\"tmin\"][:5,:5,:5])"
   ]
  },
  {
   "cell_type": "code",
   "execution_count": 23,
   "id": "411fc15a-28d4-41c6-b07b-92445914b4e3",
   "metadata": {
    "execution": {
     "iopub.execute_input": "2023-11-15T13:55:37.987600Z",
     "iopub.status.busy": "2023-11-15T13:55:37.986749Z",
     "iopub.status.idle": "2023-11-15T13:55:38.618200Z",
     "shell.execute_reply": "2023-11-15T13:55:38.616808Z",
     "shell.execute_reply.started": "2023-11-15T13:55:37.987574Z"
    }
   },
   "outputs": [
    {
     "name": "stdout",
     "output_type": "stream",
     "text": [
      "{'_ARRAY_DIMENSIONS': ['time', 'latitude', 'longitude'], 'long_name': '2 meter mininum temperature', 'units': 'K'}\n"
     ]
    }
   ],
   "source": [
    "print(dict(era5_daily[\"tmin\"].attrs))"
   ]
  }
 ],
 "metadata": {
  "kernelspec": {
   "display_name": "Python 3 (ipykernel)",
   "language": "python",
   "name": "python3"
  },
  "language_info": {
   "codemirror_mode": {
    "name": "ipython",
    "version": 3
   },
   "file_extension": ".py",
   "mimetype": "text/x-python",
   "name": "python",
   "nbconvert_exporter": "python",
   "pygments_lexer": "ipython3",
   "version": "3.11.6"
  }
 },
 "nbformat": 4,
 "nbformat_minor": 5
}
