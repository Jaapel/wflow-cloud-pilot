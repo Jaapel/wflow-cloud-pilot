{
 "cells": [
  {
   "cell_type": "markdown",
   "id": "a67e392b-0fcd-4015-8e07-7adf8aaac682",
   "metadata": {},
   "source": [
    "Look into merit hydro: how do we open it?"
   ]
  },
  {
   "cell_type": "code",
   "execution_count": 1,
   "id": "e62bf813-04f7-4ce7-a187-437527b908da",
   "metadata": {
    "execution": {
     "iopub.execute_input": "2023-11-15T10:51:13.771103Z",
     "iopub.status.busy": "2023-11-15T10:51:13.770780Z",
     "iopub.status.idle": "2023-11-15T10:51:14.030735Z",
     "shell.execute_reply": "2023-11-15T10:51:14.029171Z",
     "shell.execute_reply.started": "2023-11-15T10:51:13.771083Z"
    }
   },
   "outputs": [],
   "source": [
    "import rasterio\n",
    "from dotenv import load_dotenv\n",
    "import rioxarray"
   ]
  },
  {
   "cell_type": "code",
   "execution_count": 2,
   "id": "5240de8d-b086-4879-9a10-f3040f4ef8c4",
   "metadata": {
    "execution": {
     "iopub.execute_input": "2023-11-15T10:51:14.493255Z",
     "iopub.status.busy": "2023-11-15T10:51:14.492191Z",
     "iopub.status.idle": "2023-11-15T10:51:14.504506Z",
     "shell.execute_reply": "2023-11-15T10:51:14.503218Z",
     "shell.execute_reply.started": "2023-11-15T10:51:14.493226Z"
    }
   },
   "outputs": [
    {
     "data": {
      "text/plain": [
       "True"
      ]
     },
     "execution_count": 2,
     "metadata": {},
     "output_type": "execute_result"
    }
   ],
   "source": [
    "load_dotenv()"
   ]
  },
  {
   "cell_type": "code",
   "execution_count": 3,
   "id": "b4df6acd-fe90-49c5-b951-4be4a7ca4612",
   "metadata": {
    "execution": {
     "iopub.execute_input": "2023-11-15T10:51:15.089558Z",
     "iopub.status.busy": "2023-11-15T10:51:15.088108Z",
     "iopub.status.idle": "2023-11-15T10:51:15.093924Z",
     "shell.execute_reply": "2023-11-15T10:51:15.092761Z",
     "shell.execute_reply.started": "2023-11-15T10:51:15.089530Z"
    }
   },
   "outputs": [],
   "source": [
    "elevation_vrt_url = \"s3://hydromt-data/topography/merit_hydro/elv.vrt\""
   ]
  },
  {
   "cell_type": "code",
   "execution_count": 4,
   "id": "6acd8188-5d80-4835-893c-6118d66de009",
   "metadata": {
    "execution": {
     "iopub.execute_input": "2023-11-15T10:51:16.397211Z",
     "iopub.status.busy": "2023-11-15T10:51:16.396406Z",
     "iopub.status.idle": "2023-11-15T10:51:16.918324Z",
     "shell.execute_reply": "2023-11-15T10:51:16.917019Z",
     "shell.execute_reply.started": "2023-11-15T10:51:16.397183Z"
    }
   },
   "outputs": [],
   "source": [
    "raster_vrt = rasterio.open(elevation_vrt_url)"
   ]
  },
  {
   "cell_type": "code",
   "execution_count": 11,
   "id": "485834a4-aaf3-4000-b980-92250aad2e17",
   "metadata": {
    "execution": {
     "iopub.execute_input": "2023-11-15T10:56:12.435037Z",
     "iopub.status.busy": "2023-11-15T10:56:12.434150Z",
     "iopub.status.idle": "2023-11-15T10:56:12.441952Z",
     "shell.execute_reply": "2023-11-15T10:56:12.440343Z",
     "shell.execute_reply.started": "2023-11-15T10:56:12.435010Z"
    }
   },
   "outputs": [
    {
     "name": "stdout",
     "output_type": "stream",
     "text": [
      "raster name: s3://hydromt-data/topography/merit_hydro/elv.vrt\n",
      "raster number of variables: 1\n",
      "raster width: 432000\n",
      "raster height: 174000\n",
      "raster types: {1: 'float32'}\n"
     ]
    }
   ],
   "source": [
    "print(f\"raster name: {raster_vrt.name}\")\n",
    "print(f\"raster number of variables: {raster_vrt.count}\")\n",
    "print(f\"raster width: {raster_vrt.width}\")\n",
    "print(f\"raster height: {raster_vrt.height}\")\n",
    "print(f\"raster types: { {i: dtype for i, dtype in zip(raster_vrt.indexes, raster_vrt.dtypes)} }\")"
   ]
  }
 ],
 "metadata": {
  "kernelspec": {
   "display_name": "Python 3 (ipykernel)",
   "language": "python",
   "name": "python3"
  },
  "language_info": {
   "codemirror_mode": {
    "name": "ipython",
    "version": 3
   },
   "file_extension": ".py",
   "mimetype": "text/x-python",
   "name": "python",
   "nbconvert_exporter": "python",
   "pygments_lexer": "ipython3",
   "version": "3.11.6"
  }
 },
 "nbformat": 4,
 "nbformat_minor": 5
}
